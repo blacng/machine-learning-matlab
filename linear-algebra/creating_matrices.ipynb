{
 "cells": [
  {
   "cell_type": "markdown",
   "metadata": {},
   "source": [
    "# Creating, Concatenating, and Expanding Matrices"
   ]
  },
  {
   "cell_type": "code",
   "execution_count": 1,
   "metadata": {},
   "outputs": [
    {
     "name": "stdout",
     "output_type": "stream",
     "text": [
      "  Name      Size            Bytes  Class     Attributes\n",
      "\n",
      "  A         1x1                 8  double              \n",
      "\n",
      "\n"
     ]
    }
   ],
   "source": [
    "A = 100;\n",
    "whos A"
   ]
  },
  {
   "cell_type": "markdown",
   "metadata": {},
   "source": [
    "## Constructing a Matrix of Data"
   ]
  },
  {
   "cell_type": "code",
   "execution_count": 2,
   "metadata": {},
   "outputs": [
    {
     "name": "stdout",
     "output_type": "stream",
     "text": [
      "\n",
      "A =\n",
      "\n",
      "    12    62    93    -8\n",
      "\n",
      "\n"
     ]
    }
   ],
   "source": [
    "A = [12 62 93 -8]"
   ]
  },
  {
   "cell_type": "code",
   "execution_count": 3,
   "metadata": {},
   "outputs": [
    {
     "name": "stdout",
     "output_type": "stream",
     "text": [
      "\n",
      "sz =\n",
      "\n",
      "     1     4\n",
      "\n",
      "\n"
     ]
    }
   ],
   "source": [
    "sz = size(A)"
   ]
  },
  {
   "cell_type": "code",
   "execution_count": 5,
   "metadata": {},
   "outputs": [
    {
     "name": "stdout",
     "output_type": "stream",
     "text": [
      "\n",
      "A =\n",
      "\n",
      "    12    62\n",
      "    93    -8\n",
      "\n",
      "\n"
     ]
    }
   ],
   "source": [
    "A = [12 62; 93 -8]"
   ]
  },
  {
   "cell_type": "code",
   "execution_count": 6,
   "metadata": {},
   "outputs": [
    {
     "name": "stdout",
     "output_type": "stream",
     "text": [
      "\n",
      "sz =\n",
      "\n",
      "     2     2\n",
      "\n",
      "\n"
     ]
    }
   ],
   "source": [
    "sz = size(A)"
   ]
  },
  {
   "cell_type": "markdown",
   "metadata": {},
   "source": [
    "## Specialized Matrix Functions"
   ]
  },
  {
   "cell_type": "code",
   "execution_count": 7,
   "metadata": {},
   "outputs": [
    {
     "name": "stdout",
     "output_type": "stream",
     "text": [
      "\n",
      "A =\n",
      "\n",
      "     0     0\n",
      "     0     0\n",
      "     0     0\n",
      "\n",
      "\n"
     ]
    }
   ],
   "source": [
    "A = zeros(3,2)"
   ]
  },
  {
   "cell_type": "code",
   "execution_count": 8,
   "metadata": {},
   "outputs": [
    {
     "name": "stdout",
     "output_type": "stream",
     "text": [
      "\n",
      "A =\n",
      "\n",
      "     1     1     1     1\n",
      "     1     1     1     1\n",
      "\n",
      "\n"
     ]
    }
   ],
   "source": [
    "A = ones(2,4)"
   ]
  },
  {
   "cell_type": "markdown",
   "metadata": {},
   "source": [
    "The [diag](https://www.mathworks.com/help/matlab/ref/diag.html) function places the input elements on the diagonal of a matrix. For example, create a row vector A containing four elements. Then, create a 4-by-4 matrix whose diagonal elements are the elements of A."
   ]
  },
  {
   "cell_type": "code",
   "execution_count": 10,
   "metadata": {},
   "outputs": [
    {
     "name": "stdout",
     "output_type": "stream",
     "text": [
      "\n",
      "B =\n",
      "\n",
      "    12     0     0     0\n",
      "     0    62     0     0\n",
      "     0     0    93     0\n",
      "     0     0     0    -8\n",
      "\n",
      "\n"
     ]
    }
   ],
   "source": [
    "A = [12 62 93 -8];\n",
    "B = diag(A)"
   ]
  },
  {
   "cell_type": "markdown",
   "metadata": {},
   "source": [
    "## Concatenating Matrices"
   ]
  },
  {
   "cell_type": "code",
   "execution_count": 11,
   "metadata": {},
   "outputs": [
    {
     "name": "stdout",
     "output_type": "stream",
     "text": [
      "\n",
      "C =\n",
      "\n",
      "     1     1     1     1     0     0     0     0\n",
      "\n",
      "\n"
     ]
    }
   ],
   "source": [
    "A = ones(1,4);\n",
    "B = zeros(1,4);\n",
    "C = [A B]"
   ]
  },
  {
   "cell_type": "markdown",
   "metadata": {},
   "source": [
    "To arrange A and B as two rows of a matrix, use the semicolon."
   ]
  },
  {
   "cell_type": "code",
   "execution_count": 12,
   "metadata": {},
   "outputs": [
    {
     "name": "stdout",
     "output_type": "stream",
     "text": [
      "\n",
      "D =\n",
      "\n",
      "     1     1     1     1\n",
      "     0     0     0     0\n",
      "\n",
      "\n"
     ]
    }
   ],
   "source": [
    "D = [A;B]"
   ]
  },
  {
   "cell_type": "markdown",
   "metadata": {},
   "source": [
    "To concatenate two matrices, they must have compatible sizes. In other words, when you concatenate matrices horizontally, they must have the same number of rows. When you concatenate them vertically, they must have the same number of columns. For example, horizontally concatenate two matrices that both have two rows."
   ]
  },
  {
   "cell_type": "code",
   "execution_count": 14,
   "metadata": {},
   "outputs": [
    {
     "name": "stdout",
     "output_type": "stream",
     "text": [
      "\n",
      "A =\n",
      "\n",
      "     1     1     1\n",
      "     1     1     1\n",
      "\n",
      "\n"
     ]
    }
   ],
   "source": [
    "A = ones(2,3)"
   ]
  },
  {
   "cell_type": "code",
   "execution_count": 15,
   "metadata": {},
   "outputs": [
    {
     "name": "stdout",
     "output_type": "stream",
     "text": [
      "\n",
      "B =\n",
      "\n",
      "     0     0\n",
      "     0     0\n",
      "\n",
      "\n"
     ]
    }
   ],
   "source": [
    "B = zeros(2,2)"
   ]
  },
  {
   "cell_type": "code",
   "execution_count": 16,
   "metadata": {},
   "outputs": [
    {
     "name": "stdout",
     "output_type": "stream",
     "text": [
      "\n",
      "C =\n",
      "\n",
      "     1     1     1     0     0\n",
      "     1     1     1     0     0\n",
      "\n",
      "\n"
     ]
    }
   ],
   "source": [
    "C = [A B]"
   ]
  },
  {
   "cell_type": "code",
   "execution_count": 17,
   "metadata": {},
   "outputs": [
    {
     "name": "stdout",
     "output_type": "stream",
     "text": [
      "\n",
      "D =\n",
      "\n",
      "     1     1     1     0     0\n",
      "     1     1     1     0     0\n",
      "\n",
      "\n"
     ]
    }
   ],
   "source": [
    "D = horzcat(A, B)"
   ]
  },
  {
   "cell_type": "markdown",
   "metadata": {},
   "source": [
    "## Generating a Numeric Sequence"
   ]
  },
  {
   "cell_type": "code",
   "execution_count": 18,
   "metadata": {},
   "outputs": [
    {
     "name": "stdout",
     "output_type": "stream",
     "text": [
      "\n",
      "A =\n",
      "\n",
      "     1     2     3     4     5     6     7     8     9    10\n",
      "\n",
      "\n"
     ]
    }
   ],
   "source": [
    "A = 1:10"
   ]
  },
  {
   "cell_type": "code",
   "execution_count": 20,
   "metadata": {},
   "outputs": [
    {
     "name": "stdout",
     "output_type": "stream",
     "text": [
      "\n",
      "A =\n",
      "\n",
      "   -2.5000   -1.5000   -0.5000    0.5000    1.5000    2.5000\n",
      "\n",
      "\n"
     ]
    }
   ],
   "source": [
    "A = -2.5:2.5"
   ]
  },
  {
   "cell_type": "code",
   "execution_count": 21,
   "metadata": {},
   "outputs": [
    {
     "name": "stdout",
     "output_type": "stream",
     "text": [
      "\n",
      "A =\n",
      "\n",
      "     0     2     4     6     8    10\n",
      "\n",
      "\n"
     ]
    }
   ],
   "source": [
    "A = 0:2:10"
   ]
  },
  {
   "cell_type": "code",
   "execution_count": 22,
   "metadata": {},
   "outputs": [
    {
     "name": "stdout",
     "output_type": "stream",
     "text": [
      "\n",
      "A =\n",
      "\n",
      "     6     5     4     3     2     1     0\n",
      "\n",
      "\n"
     ]
    }
   ],
   "source": [
    "A = 6:-1:0"
   ]
  },
  {
   "cell_type": "markdown",
   "metadata": {},
   "source": [
    "## Expanding a Matrix"
   ]
  },
  {
   "cell_type": "code",
   "execution_count": 23,
   "metadata": {},
   "outputs": [
    {
     "name": "stdout",
     "output_type": "stream",
     "text": [
      "\n",
      "A =\n",
      "\n",
      "    10    20    30\n",
      "    60    70    80\n",
      "\n",
      "\n"
     ]
    }
   ],
   "source": [
    "A = [10  20  30; 60  70  80]"
   ]
  },
  {
   "cell_type": "code",
   "execution_count": 24,
   "metadata": {},
   "outputs": [
    {
     "name": "stdout",
     "output_type": "stream",
     "text": [
      "\n",
      "A =\n",
      "\n",
      "    10    20    30     0\n",
      "    60    70    80     0\n",
      "     0     0     0     1\n",
      "\n",
      "\n"
     ]
    }
   ],
   "source": [
    "A(3,4) = 1"
   ]
  },
  {
   "cell_type": "code",
   "execution_count": 25,
   "metadata": {},
   "outputs": [
    {
     "name": "stdout",
     "output_type": "stream",
     "text": [
      "\n",
      "A =\n",
      "\n",
      "    10    20    30     0     0     0\n",
      "    60    70    80     0     0     0\n",
      "     0     0     0     1     0     0\n",
      "     0     0     0     0     2     3\n",
      "     0     0     0     0     4     5\n",
      "\n",
      "\n"
     ]
    }
   ],
   "source": [
    "A(4:5,5:6) = [2 3; 4 5]"
   ]
  },
  {
   "cell_type": "markdown",
   "metadata": {},
   "source": [
    "To expand the size of a matrix repeatedly, such as within a for loop, it's usually best to preallocate space for the largest matrix you anticipate creating. Without preallocation, MATLAB has to allocate memory every time the size increases, slowing down operations. For example, preallocate a matrix that holds up to 10,000 rows and 10,000 columns by initializing its elements to zero."
   ]
  },
  {
   "cell_type": "code",
   "execution_count": 27,
   "metadata": {},
   "outputs": [
    {
     "name": "stdout",
     "output_type": "stream",
     "text": [
      "\n"
     ]
    }
   ],
   "source": [
    "A = zeros(10000,10000);"
   ]
  },
  {
   "cell_type": "markdown",
   "metadata": {},
   "source": [
    "## Empty Arrays"
   ]
  },
  {
   "cell_type": "markdown",
   "metadata": {},
   "source": [
    "An empty array in MATLAB is an array with at least one dimension length equal to zero. Empty arrays are useful for representing the concept of \"nothing\" programmatically. For example, suppose you want to [find](https://www.mathworks.com/help/matlab/ref/find.html) all elements of a vector that are less than 0, but there are none. The find function returns an empty vector of indices, indicating that it couldn't find any elements less than 0."
   ]
  },
  {
   "cell_type": "code",
   "execution_count": 28,
   "metadata": {},
   "outputs": [
    {
     "name": "stdout",
     "output_type": "stream",
     "text": [
      "\n",
      "ind =\n",
      "\n",
      "  1x0 empty double row vector\n",
      "\n",
      "\n"
     ]
    }
   ],
   "source": [
    "A = [1 2 3 4];\n",
    "ind = find(A<0)"
   ]
  },
  {
   "cell_type": "markdown",
   "metadata": {},
   "source": [
    "Many algorithms contain function calls that can return empty arrays. It is often useful to allow empty arrays to flow through these algorithms as function arguments instead of handling them as a special case. If you do need to customize empty array handling, you can check for them using the isempty function."
   ]
  },
  {
   "cell_type": "code",
   "execution_count": 29,
   "metadata": {},
   "outputs": [
    {
     "name": "stdout",
     "output_type": "stream",
     "text": [
      "\n",
      "TF =\n",
      "\n",
      "  logical\n",
      "\n",
      "   1\n",
      "\n",
      "\n"
     ]
    }
   ],
   "source": [
    "TF = isempty(ind)"
   ]
  },
  {
   "cell_type": "code",
   "execution_count": null,
   "metadata": {},
   "outputs": [],
   "source": []
  }
 ],
 "metadata": {
  "kernelspec": {
   "display_name": "Matlab",
   "language": "matlab",
   "name": "matlab"
  },
  "language_info": {
   "codemirror_mode": "octave",
   "file_extension": ".m",
   "help_links": [
    {
     "text": "MetaKernel Magics",
     "url": "https://metakernel.readthedocs.io/en/latest/source/README.html"
    }
   ],
   "mimetype": "text/x-octave",
   "name": "matlab",
   "version": "0.16.7"
  }
 },
 "nbformat": 4,
 "nbformat_minor": 4
}
