{
 "cells": [
  {
   "cell_type": "markdown",
   "metadata": {},
   "source": [
    "# Linear Algebra Review"
   ]
  },
  {
   "cell_type": "markdown",
   "metadata": {},
   "source": [
    "## Matrices"
   ]
  },
  {
   "cell_type": "code",
   "execution_count": 3,
   "metadata": {},
   "outputs": [
    {
     "name": "stdout",
     "output_type": "stream",
     "text": [
      "\n"
     ]
    }
   ],
   "source": [
    "% The ; denotes we are going back to a new row.\n",
    "A = [1, 2, 3; 4, 5, 6; 7, 8, 9; 10, 11, 12];\n",
    "\n",
    "% Initialize a vector \n",
    "v = [1;2;3]; \n",
    "\n",
    "% Get the dimension of the matrix A where m = rows and n = columns\n",
    "[m,n] = size(A);\n",
    "\n",
    "% You could also store it this way\n",
    "dim_A = size(A);\n",
    "\n",
    "% Get the dimension of the vector v \n",
    "dim_v = size(v);\n",
    "\n",
    "% Now let's index into the 2nd row 3rd column of matrix A\n",
    "A_23 = A(2,3);\n",
    "\n",
    "% Matrix addition\n",
    "A = [1 0; 2 5; 3 1]; B = [4 0.5; 2 5; 0 1]; C = A+B;"
   ]
  },
  {
   "cell_type": "markdown",
   "metadata": {},
   "source": [
    "## Addition and Scalar Matrix Multiplication"
   ]
  },
  {
   "cell_type": "code",
   "execution_count": 1,
   "metadata": {},
   "outputs": [
    {
     "name": "stdout",
     "output_type": "stream",
     "text": [
      "\n"
     ]
    }
   ],
   "source": [
    "% Initialize matrix A and B \n",
    "A = [1, 2, 4; 5, 3, 2];\n",
    "B = [1, 3, 4; 1, 1, 1];\n",
    "\n",
    "% Initialize constant s \n",
    "s = 2;\n",
    "\n",
    "% See how element-wise addition works\n",
    "add_AB = A + B ;\n",
    "\n",
    "% See how element-wise subtraction works\n",
    "sub_AB = A - B;\n",
    "\n",
    "% See how scalar multiplication works\n",
    "mult_As = A * s;\n",
    "\n",
    "% Divide A by s\n",
    "div_As = A / s;\n",
    "\n",
    "% What happens if we have a Matrix + scalar?\n",
    "add_As = A + s;"
   ]
  },
  {
   "cell_type": "markdown",
   "metadata": {},
   "source": [
    "## Matrix Vector Multiplication"
   ]
  },
  {
   "cell_type": "markdown",
   "metadata": {},
   "source": [
    "- x contains a matrix of house size in square footage $ft^{2}$\n",
    "- my_hyp is defined as $H_{\\theta}(x) = \\theta_0 + \\theta_1{x}$\n",
    "    - where $\\theta_0$ and $\\theta_1$ are my parameters\n",
    "- $H_{\\theta}(x) = -40 + 0.25{x}$"
   ]
  },
  {
   "cell_type": "code",
   "execution_count": 4,
   "metadata": {},
   "outputs": [
    {
     "name": "stdout",
     "output_type": "stream",
     "text": [
      "\n"
     ]
    }
   ],
   "source": [
    "x = [1 2104; 1 1416; 1 1534; 1 852]; my_hyp = [-40 0.25]';\n",
    "prediction = x * my_hyp;"
   ]
  },
  {
   "cell_type": "code",
   "execution_count": 5,
   "metadata": {},
   "outputs": [
    {
     "name": "stdout",
     "output_type": "stream",
     "text": [
      "\n",
      "prediction =\n",
      "\n",
      "  486.0000\n",
      "  314.0000\n",
      "  343.5000\n",
      "  173.0000\n",
      "\n",
      "\n"
     ]
    }
   ],
   "source": [
    "prediction"
   ]
  },
  {
   "cell_type": "markdown",
   "metadata": {},
   "source": [
    "## Matrix Matrix Multiplication"
   ]
  },
  {
   "cell_type": "markdown",
   "metadata": {},
   "source": [
    "### An Example\n",
    "Let's say we have two matrices and I want to multiply them together"
   ]
  },
  {
   "cell_type": "code",
   "execution_count": 10,
   "metadata": {},
   "outputs": [
    {
     "name": "stdout",
     "output_type": "stream",
     "text": [
      "\n",
      "A =\n",
      "\n",
      "     1     3     2\n",
      "     4     0     1\n",
      "\n",
      "\n",
      "B =\n",
      "\n",
      "     1     3\n",
      "     0     1\n",
      "     5     2\n",
      "\n",
      "\n",
      "ans =\n",
      "\n",
      "    11    10\n",
      "     9    14\n",
      "\n",
      "\n"
     ]
    }
   ],
   "source": [
    "A = [1 3 2 ; 4 0 1]; B = [1 3; 0 1; 5 2];\n",
    "A \n",
    "B\n",
    "A * B"
   ]
  },
  {
   "cell_type": "code",
   "execution_count": 11,
   "metadata": {},
   "outputs": [
    {
     "name": "stdout",
     "output_type": "stream",
     "text": [
      "\n",
      "ans =\n",
      "\n",
      "     7     9\n",
      "    10    12\n",
      "    10    15\n",
      "\n",
      "\n"
     ]
    }
   ],
   "source": [
    "[1 3; 2 4; 0 5] * [1 0; 2 3]"
   ]
  },
  {
   "cell_type": "markdown",
   "metadata": {},
   "source": [
    "## Another Neat Trick with Matrix Matrix Multiplication"
   ]
  },
  {
   "cell_type": "markdown",
   "metadata": {},
   "source": [
    "Let's say we have four houses whose prices we want to predict.\n",
    "\n",
    "|House sizes  | \n",
    "| :-----------:|\n",
    "| 2104| \n",
    "|1416| \n",
    "| 1534| \n",
    "| 852| \n",
    "\n",
    "We also have three competing hypotheses:\n",
    "\n",
    "1. $h_{\\theta}(x) = -40 + 0.25{x}$\n",
    "2. $h_{\\theta}(x) = 200 + 0.1{x}$\n",
    "3. $h_{\\theta}(x) = -150 + 0.4{x}$\n",
    "\n",
    "We can apply all three competing hypotheses to the matrix containing houses sizes by using a **matrix matrix multiplication**. "
   ]
  },
  {
   "cell_type": "code",
   "execution_count": 15,
   "metadata": {},
   "outputs": [
    {
     "name": "stdout",
     "output_type": "stream",
     "text": [
      "\n",
      "x =\n",
      "\n",
      "           1        2104\n",
      "           1        1416\n",
      "           1        1534\n",
      "           1         852\n",
      "\n",
      "\n",
      "my_hyp =\n",
      "\n",
      "  -40.0000  200.0000 -150.0000\n",
      "    0.2500    0.1000    0.4000\n",
      "\n",
      "\n",
      "prediction =\n",
      "\n",
      "   486   410   692\n",
      "   314   342   416\n",
      "   344   353   464\n",
      "   173   285   191\n",
      "\n",
      "\n"
     ]
    }
   ],
   "source": [
    "% Remember from above that x contains matrix of house sizes\n",
    "x \n",
    "% Include additional hypotheses to my_hyp matrix\n",
    "my_hyp = [-40 200 -150; 0.25 0.1 0.4];\n",
    "my_hyp\n",
    "% Matrix multiplication\n",
    "prediction = round(x * my_hyp);\n",
    "prediction"
   ]
  },
  {
   "cell_type": "code",
   "execution_count": null,
   "metadata": {},
   "outputs": [],
   "source": []
  }
 ],
 "metadata": {
  "kernelspec": {
   "display_name": "Matlab",
   "language": "matlab",
   "name": "matlab"
  },
  "language_info": {
   "codemirror_mode": "octave",
   "file_extension": ".m",
   "help_links": [
    {
     "text": "MetaKernel Magics",
     "url": "https://metakernel.readthedocs.io/en/latest/source/README.html"
    }
   ],
   "mimetype": "text/x-octave",
   "name": "matlab",
   "version": "0.16.7"
  }
 },
 "nbformat": 4,
 "nbformat_minor": 4
}
