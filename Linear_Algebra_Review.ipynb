{
 "cells": [
  {
   "cell_type": "markdown",
   "metadata": {},
   "source": [
    "# Linear Algebra Review"
   ]
  },
  {
   "cell_type": "markdown",
   "metadata": {},
   "source": [
    "## Matrices"
   ]
  },
  {
   "cell_type": "code",
   "execution_count": 3,
   "metadata": {},
   "outputs": [
    {
     "name": "stdout",
     "output_type": "stream",
     "text": [
      "\n"
     ]
    }
   ],
   "source": [
    "% The ; denotes we are going back to a new row.\n",
    "A = [1, 2, 3; 4, 5, 6; 7, 8, 9; 10, 11, 12];\n",
    "\n",
    "% Initialize a vector \n",
    "v = [1;2;3]; \n",
    "\n",
    "% Get the dimension of the matrix A where m = rows and n = columns\n",
    "[m,n] = size(A);\n",
    "\n",
    "% You could also store it this way\n",
    "dim_A = size(A);\n",
    "\n",
    "% Get the dimension of the vector v \n",
    "dim_v = size(v);\n",
    "\n",
    "% Now let's index into the 2nd row 3rd column of matrix A\n",
    "A_23 = A(2,3);\n",
    "\n",
    "% Matrix addition\n",
    "A = [1 0; 2 5; 3 1]; B = [4 0.5; 2 5; 0 1]; C = A+B;"
   ]
  },
  {
   "cell_type": "markdown",
   "metadata": {},
   "source": [
    "## Addition and Scalar Matrix Multiplication"
   ]
  },
  {
   "cell_type": "code",
   "execution_count": 32,
   "metadata": {},
   "outputs": [
    {
     "name": "stdout",
     "output_type": "stream",
     "text": [
      "\n",
      "mult_As =\n",
      "\n",
      "     2     4     8\n",
      "    10     6     4\n",
      "\n",
      "\n",
      "ans =\n",
      "\n",
      "     4\n",
      "\n",
      "\n"
     ]
    }
   ],
   "source": [
    "% Initialize matrix A and B \n",
    "A = [1, 2, 4; 5, 3, 2];\n",
    "B = [1, 3, 4; 1, 1, 1];\n",
    "\n",
    "% Initialize constant s \n",
    "s = 2;\n",
    "\n",
    "% See how element-wise addition works\n",
    "add_AB = A + B ;\n",
    "\n",
    "% See how element-wise subtraction works\n",
    "sub_AB = A - B;\n",
    "\n",
    "% See how scalar multiplication works\n",
    "mult_As = A * s;\n",
    "\n",
    "% Divide A by s\n",
    "div_As = A / s;\n",
    "\n",
    "% What happens if we have a Matrix + scalar?\n",
    "add_As = A + s;\n",
    "\n",
    "mult_As\n",
    "\n",
    "u=[1; 3; -1]; v = [2; 2; 4];\n",
    "u'*v"
   ]
  },
  {
   "cell_type": "markdown",
   "metadata": {},
   "source": [
    "## Matrix Vector Multiplication"
   ]
  },
  {
   "cell_type": "markdown",
   "metadata": {},
   "source": [
    "- x contains a matrix of house size in square footage $ft^{2}$\n",
    "- my_hyp is defined as $H_{\\theta}(x) = \\theta_0 + \\theta_1{x}$\n",
    "    - where $\\theta_0$ and $\\theta_1$ are my parameters\n",
    "- $H_{\\theta}(x) = -40 + 0.25{x}$"
   ]
  },
  {
   "cell_type": "code",
   "execution_count": 4,
   "metadata": {},
   "outputs": [
    {
     "name": "stdout",
     "output_type": "stream",
     "text": [
      "\n"
     ]
    }
   ],
   "source": [
    "x = [1 2104; 1 1416; 1 1534; 1 852]; my_hyp = [-40 0.25]';\n",
    "prediction = x * my_hyp;"
   ]
  },
  {
   "cell_type": "code",
   "execution_count": 5,
   "metadata": {},
   "outputs": [
    {
     "name": "stdout",
     "output_type": "stream",
     "text": [
      "\n",
      "prediction =\n",
      "\n",
      "  486.0000\n",
      "  314.0000\n",
      "  343.5000\n",
      "  173.0000\n",
      "\n",
      "\n"
     ]
    }
   ],
   "source": [
    "prediction"
   ]
  },
  {
   "cell_type": "markdown",
   "metadata": {},
   "source": [
    "## Matrix Matrix Multiplication"
   ]
  },
  {
   "cell_type": "markdown",
   "metadata": {},
   "source": [
    "### An Example\n",
    "Let's say we have two matrices and I want to multiply them together"
   ]
  },
  {
   "cell_type": "code",
   "execution_count": 10,
   "metadata": {},
   "outputs": [
    {
     "name": "stdout",
     "output_type": "stream",
     "text": [
      "\n",
      "A =\n",
      "\n",
      "     1     3     2\n",
      "     4     0     1\n",
      "\n",
      "\n",
      "B =\n",
      "\n",
      "     1     3\n",
      "     0     1\n",
      "     5     2\n",
      "\n",
      "\n",
      "ans =\n",
      "\n",
      "    11    10\n",
      "     9    14\n",
      "\n",
      "\n"
     ]
    }
   ],
   "source": [
    "A = [1 3 2 ; 4 0 1]; B = [1 3; 0 1; 5 2];\n",
    "A \n",
    "B\n",
    "A * B"
   ]
  },
  {
   "cell_type": "code",
   "execution_count": 11,
   "metadata": {},
   "outputs": [
    {
     "name": "stdout",
     "output_type": "stream",
     "text": [
      "\n",
      "ans =\n",
      "\n",
      "     7     9\n",
      "    10    12\n",
      "    10    15\n",
      "\n",
      "\n"
     ]
    }
   ],
   "source": [
    "[1 3; 2 4; 0 5] * [1 0; 2 3]"
   ]
  },
  {
   "cell_type": "markdown",
   "metadata": {},
   "source": [
    "## Another Neat Trick with Matrix Matrix Multiplication"
   ]
  },
  {
   "cell_type": "markdown",
   "metadata": {},
   "source": [
    "Let's say we have four houses whose prices we want to predict.\n",
    "\n",
    "|House sizes  | \n",
    "| :-----------:|\n",
    "| 2104| \n",
    "|1416| \n",
    "| 1534| \n",
    "| 852| \n",
    "\n",
    "We also have three competing hypotheses:\n",
    "\n",
    "1. $h_{\\theta}(x) = -40 + 0.25{x}$\n",
    "2. $h_{\\theta}(x) = 200 + 0.1{x}$\n",
    "3. $h_{\\theta}(x) = -150 + 0.4{x}$\n",
    "\n",
    "We can apply all three competing hypotheses to the matrix containing houses sizes by using a **matrix matrix multiplication**. "
   ]
  },
  {
   "cell_type": "code",
   "execution_count": 15,
   "metadata": {},
   "outputs": [
    {
     "name": "stdout",
     "output_type": "stream",
     "text": [
      "\n",
      "x =\n",
      "\n",
      "           1        2104\n",
      "           1        1416\n",
      "           1        1534\n",
      "           1         852\n",
      "\n",
      "\n",
      "my_hyp =\n",
      "\n",
      "  -40.0000  200.0000 -150.0000\n",
      "    0.2500    0.1000    0.4000\n",
      "\n",
      "\n",
      "prediction =\n",
      "\n",
      "   486   410   692\n",
      "   314   342   416\n",
      "   344   353   464\n",
      "   173   285   191\n",
      "\n",
      "\n"
     ]
    }
   ],
   "source": [
    "% Remember from above that x contains matrix of house sizes\n",
    "x \n",
    "% Include additional hypotheses to my_hyp matrix\n",
    "my_hyp = [-40 200 -150; 0.25 0.1 0.4];\n",
    "my_hyp\n",
    "% Matrix multiplication\n",
    "prediction = round(x * my_hyp);\n",
    "prediction"
   ]
  },
  {
   "cell_type": "markdown",
   "metadata": {},
   "source": [
    "## Using linsolve"
   ]
  },
  {
   "cell_type": "code",
   "execution_count": 19,
   "metadata": {},
   "outputs": [
    {
     "name": "stderr",
     "output_type": "stream",
     "text": [
      "\u001b[1;31mMatrix dimensions must agree.\n",
      "\n",
      "\u001b[0m"
     ]
    }
   ],
   "source": [
    "prediction = mldivide(x, my_hyp)\n",
    "prediction"
   ]
  },
  {
   "cell_type": "code",
   "execution_count": 20,
   "metadata": {},
   "outputs": [
    {
     "name": "stdout",
     "output_type": "stream",
     "text": [
      "\n",
      "A =\n",
      "\n",
      "     8     1     6\n",
      "     3     5     7\n",
      "     4     9     2\n",
      "\n",
      "\n"
     ]
    }
   ],
   "source": [
    "A = magic(3)"
   ]
  },
  {
   "cell_type": "markdown",
   "metadata": {},
   "source": [
    "## Properties of Matrix Multiplication"
   ]
  },
  {
   "cell_type": "markdown",
   "metadata": {},
   "source": [
    "### 1. Matrix multiplication is not commutative"
   ]
  },
  {
   "cell_type": "code",
   "execution_count": 21,
   "metadata": {},
   "outputs": [
    {
     "name": "stdout",
     "output_type": "stream",
     "text": [
      "\n",
      "ans =\n",
      "\n",
      "    15\n",
      "\n",
      "\n",
      "ans =\n",
      "\n",
      "    15\n",
      "\n",
      "\n"
     ]
    }
   ],
   "source": [
    "3 * 5 \n",
    "% The same as\n",
    "5 * 3"
   ]
  },
  {
   "cell_type": "markdown",
   "metadata": {},
   "source": [
    "It turns out that this commutative property is not true for matrices.\n",
    "\n",
    "Let $A$ and $B$ be matrices. Then in general,\n",
    "\n",
    "$A$ * $B$ $\\neq$ $B$ * $A$ (**not commutative.**)\n",
    "\n",
    "It's not ok to just arbitrarily reverse the order in which you multiply matrices.\n",
    "\n",
    "For example here are two matrices"
   ]
  },
  {
   "cell_type": "code",
   "execution_count": 22,
   "metadata": {},
   "outputs": [
    {
     "name": "stdout",
     "output_type": "stream",
     "text": [
      "\n",
      "ans =\n",
      "\n",
      "     2     0\n",
      "     0     0\n",
      "\n",
      "\n",
      "ans =\n",
      "\n",
      "     0     0\n",
      "     2     2\n",
      "\n",
      "\n"
     ]
    }
   ],
   "source": [
    "A = [1 1; 0 0]; B = [0 0; 2 0];\n",
    "A * B\n",
    "B * A"
   ]
  },
  {
   "cell_type": "markdown",
   "metadata": {},
   "source": [
    "As we can see above, these two matrix multiplications do not yield the same result."
   ]
  },
  {
   "cell_type": "markdown",
   "metadata": {},
   "source": [
    "Say, we have two matrices A and B\n",
    "\n",
    "If matrix A is m * n and,\n",
    "\n",
    "Matrix B is n * m then,\n",
    "\n",
    "A * B is m * m but,\n",
    "\n",
    "B * A is n * n\n",
    "\n",
    "Also note that A * B and B * A may not be the same dimension even though the same above is a 2 X 2 matrix"
   ]
  },
  {
   "cell_type": "markdown",
   "metadata": {},
   "source": [
    "### 2. Matrix multiplication is associative"
   ]
  },
  {
   "cell_type": "markdown",
   "metadata": {},
   "source": [
    "So when talking about scalars or  ${\\rm I\\!R}$ numbers, let say I have 3 * 5 * 2\n",
    "\n",
    "I can either multiply 5 * 2 first OR start by multiplying 3 * 5 \n",
    "\n",
    "This is called the **associative** property of real number multiplication.\n",
    "\n",
    "Let's say we have three matrices A, B and C\n",
    "\n",
    "A * (B * C) = (A * B) * C\n",
    "\n",
    "So we say that matrix multiplication does enjoy the associative property. "
   ]
  },
  {
   "cell_type": "markdown",
   "metadata": {},
   "source": [
    "### 3. The identity matrix"
   ]
  },
  {
   "cell_type": "markdown",
   "metadata": {},
   "source": [
    "So when dealing with scalars or  ${\\rm I\\!R}$ numbers, the number 1 is **identity**. What mean by this is that for any real number $z$, if we multiply \n",
    "\n",
    "- 1 * $z$ = $z$ * 1 = $z$\n",
    "\n",
    "Denoted $I$ or $I_{n x n}$\n",
    "- The identity matrix has 1s along the diagonal and 0s everywhere else\n",
    "\n",
    "Examples of identity matrices:\n",
    "\n",
    "2 X 2\n",
    "\\begin{bmatrix}\n",
    "  1 & 0 \\\\\n",
    "  0 & 1 \\\\\n",
    " \\end{bmatrix}\n",
    "\n",
    "3 X 3\n",
    " \\begin{bmatrix}\n",
    "  1 & 0 & 0\\\\\n",
    "  0 & 1 & 0\\\\\n",
    "  0 & 0 & 1\\\\\n",
    " \\end{bmatrix}\n",
    "\n",
    "4 X 4\n",
    "  \\begin{bmatrix}\n",
    "  1 & 0 & 0 & 0\\\\\n",
    "  0 & 1 & 0 & 0\\\\\n",
    "  0 & 0 & 1 & 0\\\\\n",
    "  0 & 0 & 0 & 1\\\\\n",
    " \\end{bmatrix}\n",
    " \n",
    "For any matrix $A$,\n",
    "   - $A$ * $I$ = $I$ * $A$ = $A$"
   ]
  },
  {
   "cell_type": "code",
   "execution_count": 23,
   "metadata": {},
   "outputs": [
    {
     "name": "stdout",
     "output_type": "stream",
     "text": [
      "\n",
      "A =\n",
      "\n",
      "     1     2\n",
      "     4     5\n",
      "\n",
      "\n",
      "B =\n",
      "\n",
      "     1     1\n",
      "     0     2\n",
      "\n",
      "\n",
      "I =\n",
      "\n",
      "     1     0\n",
      "     0     1\n",
      "\n",
      "\n",
      "IA =\n",
      "\n",
      "     1     2\n",
      "     4     5\n",
      "\n",
      "\n",
      "AI =\n",
      "\n",
      "     1     2\n",
      "     4     5\n",
      "\n",
      "\n",
      "AB =\n",
      "\n",
      "     1     5\n",
      "     4    14\n",
      "\n",
      "\n",
      "BA =\n",
      "\n",
      "     5     7\n",
      "     8    10\n",
      "\n",
      "\n"
     ]
    }
   ],
   "source": [
    "% Initialize random matrices A and B \n",
    "A = [1,2;4,5]\n",
    "B = [1,1;0,2]\n",
    "\n",
    "% Initialize a 2 by 2 identity matrix\n",
    "I = eye(2)\n",
    "\n",
    "% The above notation is the same as I = [1,0;0,1]\n",
    "\n",
    "% What happens when we multiply I*A ? \n",
    "IA = I*A \n",
    "\n",
    "% How about A*I ? \n",
    "AI = A*I \n",
    "\n",
    "% Compute A*B \n",
    "AB = A*B \n",
    "\n",
    "% Is it equal to B*A? \n",
    "BA = B*A \n",
    "\n",
    "% Note that IA = AI but AB != BA"
   ]
  },
  {
   "cell_type": "code",
   "execution_count": 27,
   "metadata": {},
   "outputs": [
    {
     "data": {
      "text/plain": [
       " MAGIC  Magic square.\n",
       "    MAGIC(N) is an N-by-N matrix constructed from the integers\n",
       "    1 through N^2 with equal row, column, and diagonal sums.\n",
       "    Produces valid magic squares for all N > 0 except N = 2.\n",
       "\n",
       "    Reference page in Doc Center\n",
       "       doc magic\n",
       "\n",
       "\n"
      ]
     },
     "metadata": {},
     "output_type": "display_data"
    }
   ],
   "source": [
    "magic?"
   ]
  },
  {
   "cell_type": "code",
   "execution_count": 25,
   "metadata": {},
   "outputs": [
    {
     "name": "stdout",
     "output_type": "stream",
     "text": [
      "\n",
      "A =\n",
      "\n",
      "     1     0\n",
      "     0     1\n",
      "\n",
      "\n"
     ]
    }
   ],
   "source": [
    "A = eye(2)"
   ]
  },
  {
   "cell_type": "code",
   "execution_count": 33,
   "metadata": {},
   "outputs": [
    {
     "name": "stdout",
     "output_type": "stream",
     "text": [
      "\n",
      "M =\n",
      "\n",
      "     0     0     0\n",
      "     0     0     0\n",
      "     0     0     0\n",
      "\n",
      "\n"
     ]
    }
   ],
   "source": [
    " M = zeros(3,3)"
   ]
  },
  {
   "cell_type": "markdown",
   "metadata": {},
   "source": [
    "## Linear Algebra Quiz"
   ]
  },
  {
   "cell_type": "code",
   "execution_count": 34,
   "metadata": {},
   "outputs": [
    {
     "name": "stdout",
     "output_type": "stream",
     "text": [
      "\n",
      "ans =\n",
      "\n",
      "     6    -6\n",
      "    11     7\n",
      "\n",
      "\n"
     ]
    }
   ],
   "source": [
    "% Question 1\n",
    "A = [4 3; 6 9]; B = [-2 9; -5 2];\n",
    "A - B"
   ]
  },
  {
   "cell_type": "code",
   "execution_count": 35,
   "metadata": {},
   "outputs": [
    {
     "name": "stdout",
     "output_type": "stream",
     "text": [
      "\n",
      "ans =\n",
      "\n",
      "     6\n",
      "    21\n",
      "    12\n",
      "     3\n",
      "\n",
      "\n"
     ]
    }
   ],
   "source": [
    "% Question 2\n",
    "x = [2; 7; 4; 1];\n",
    "3 * x"
   ]
  },
  {
   "cell_type": "code",
   "execution_count": 36,
   "metadata": {},
   "outputs": [
    {
     "name": "stdout",
     "output_type": "stream",
     "text": [
      "\n",
      "ans =\n",
      "\n",
      "     8     1     4\n",
      "\n",
      "\n"
     ]
    }
   ],
   "source": [
    "% Question 3\n",
    "u = [8; 1; 4];\n",
    "u'"
   ]
  },
  {
   "cell_type": "code",
   "execution_count": 37,
   "metadata": {},
   "outputs": [
    {
     "name": "stdout",
     "output_type": "stream",
     "text": [
      "\n",
      "ans =\n",
      "\n",
      "    13\n",
      "\n",
      "\n"
     ]
    }
   ],
   "source": [
    "% Question 4\n",
    "u = [3; -5; 4]; v = [1; 2; 5];\n",
    "u'*v"
   ]
  },
  {
   "cell_type": "markdown",
   "metadata": {},
   "source": [
    "Let A and B be 3x3 (square) matrices. Which of the following must necessarily hold true? Check all that apply.\n",
    "\n",
    "- A∗B=B∗A (not correct)\n",
    "- A*B*A = B*A*B A∗B∗A=B∗A∗B (correct)\n",
    "- If B is the 3x3 identity matrix, then A * B = B * A A∗B=B∗A (correct)\n",
    "- If C = A*BC=A∗B, then C is a 3x3 matrix. (correct)"
   ]
  },
  {
   "cell_type": "code",
   "execution_count": null,
   "metadata": {},
   "outputs": [],
   "source": []
  }
 ],
 "metadata": {
  "kernelspec": {
   "display_name": "Matlab",
   "language": "matlab",
   "name": "matlab"
  },
  "language_info": {
   "codemirror_mode": "octave",
   "file_extension": ".m",
   "help_links": [
    {
     "text": "MetaKernel Magics",
     "url": "https://metakernel.readthedocs.io/en/latest/source/README.html"
    }
   ],
   "mimetype": "text/x-octave",
   "name": "matlab",
   "version": "0.16.7"
  }
 },
 "nbformat": 4,
 "nbformat_minor": 4
}
